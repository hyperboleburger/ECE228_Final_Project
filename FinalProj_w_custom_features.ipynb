{
 "cells": [
  {
   "cell_type": "code",
   "execution_count": 1,
   "metadata": {},
   "outputs": [],
   "source": [
    "import numpy as np\n",
    "import cv2\n",
    "import pandas as pd \n",
    "import matplotlib.pyplot as plt\n",
    "from matplotlib.offsetbox import OffsetImage, AnnotationBbox\n",
    "import glob\n",
    "import os\n",
    "import sys\n",
    "import sklearn\n",
    "from sklearn.preprocessing import StandardScaler\n",
    "from sklearn.decomposition import PCA\n",
    "from sklearn.ensemble import RandomForestClassifier\n",
    "from sklearn.model_selection import train_test_split\n",
    "from sklearn import svm as svm_sk\n",
    "from sklearn.metrics import accuracy_score\n",
    "from sklearn.metrics import confusion_matrix\n",
    "from sklearn.preprocessing import normalize\n",
    "\n",
    "# Preprocessing Training data\n",
    "fruit_images_t = []\n",
    "labels_t = [] \n",
    "for fruit_dir_path in glob.glob(\"fruits-360/Training/*\"):\n",
    "    fruit_label = fruit_dir_path.split(\"\\\\\")[-1]\n",
    "    for image_path in glob.glob(os.path.join(fruit_dir_path, \"*.jpg\")):\n",
    "        image = cv2.imread(image_path, cv2.IMREAD_COLOR)\n",
    "\n",
    "        image = cv2.resize(image, (45, 45))\n",
    "        image = cv2.cvtColor(image, cv2.COLOR_RGB2BGR)\n",
    "\n",
    "        fruit_images_t.append(image)\n",
    "        labels_t.append(fruit_label)\n",
    "fruit_images_t = np.array(fruit_images_t)\n",
    "labels_t = np.array(labels_t)\n",
    "\n",
    "# Preprocessing Validation data\n",
    "fruit_images_v = []\n",
    "labels_v = [] \n",
    "for fruit_dir_path in glob.glob(\"fruits-360/Validation/*\"):\n",
    "    fruit_label = fruit_dir_path.split(\"\\\\\")[-1]\n",
    "    for image_path in glob.glob(os.path.join(fruit_dir_path, \"*.jpg\")):\n",
    "        image = cv2.imread(image_path, cv2.IMREAD_COLOR)\n",
    "\n",
    "        image = cv2.resize(image, (45, 45))\n",
    "        image = cv2.cvtColor(image, cv2.COLOR_RGB2BGR)\n",
    "\n",
    "        fruit_images_v.append(image)\n",
    "        labels_v.append(fruit_label)\n",
    "fruit_images_v = np.array(fruit_images_v)\n",
    "labels_v = np.array(labels_v)\n",
    "\n",
    "# Create dicts/arrays for Training Data\n",
    "names_t = np.unique(labels_t)\n",
    "ids_t = [k for k in range(0, len(names_t))]\n",
    "name_id_t = list(zip(names_t, ids_t))\n",
    "id_to_name_t = {id: name for (name, id) in name_id_t}\n",
    "name_to_id_t = {name: id for (name, id) in name_id_t}\n",
    "label_ids_t = np.array([name_to_id_t[x] for x in labels_t])\n",
    "\n",
    "# Create dicts/arrays for Validation data\n",
    "names_v = np.unique(labels_v)\n",
    "ids_v = [k for k in range(len(names_v))]\n",
    "id_name_v = list(zip(ids_v, names_v))\n",
    "name_to_id_v = {name: id for (id, name) in id_name_v}\n",
    "id_to_name_v = {id: name for (id, name) in id_name_v}\n",
    "label_ids_v = np.array([name_to_id_v[x] for x in labels_v])\n",
    "\n",
    "#End of preprocessing stage"
   ]
  },
  {
   "cell_type": "code",
   "execution_count": 2,
   "metadata": {},
   "outputs": [],
   "source": [
    "# PCA Cell\n",
    "# Scale Training data and then run PCA on it\n",
    "scaler = StandardScaler()\n",
    "scaled_images = scaler.fit_transform([im.flatten() for im in fruit_images_t])\n",
    "pca = PCA(n_components=80)\n",
    "pca_result_t = pca.fit_transform(scaled_images)\n",
    "\n",
    "# Split training set\n",
    "X_train, X_test, y_train, y_test = train_test_split(pca_result_t, label_ids_t, test_size=0.6)\n",
    "\n",
    "# Scale Validation Data and run PCA on it\n",
    "images_scaled = scaler.transform([im.flatten() for im in fruit_images_v])\n",
    "pca_result_v = pca.transform(images_scaled)"
   ]
  },
  {
   "cell_type": "code",
   "execution_count": 18,
   "metadata": {},
   "outputs": [
    {
     "name": "stdout",
     "output_type": "stream",
     "text": [
      "[[[254 255 255]\n",
      "  [254 255 255]\n",
      "  [255 255 255]\n",
      "  ...\n",
      "  [255 253 254]\n",
      "  [255 255 255]\n",
      "  [255 255 255]]\n",
      "\n",
      " [[254 255 255]\n",
      "  [254 255 255]\n",
      "  [255 255 255]\n",
      "  ...\n",
      "  [255 255 255]\n",
      "  [255 255 255]\n",
      "  [255 255 255]]\n",
      "\n",
      " [[255 255 255]\n",
      "  [255 255 255]\n",
      "  [255 255 255]\n",
      "  ...\n",
      "  [254 255 255]\n",
      "  [255 255 255]\n",
      "  [255 255 255]]\n",
      "\n",
      " ...\n",
      "\n",
      " [[252 255 251]\n",
      "  [255 253 254]\n",
      "  [255 255 255]\n",
      "  ...\n",
      "  [255 255 255]\n",
      "  [255 255 255]\n",
      "  [255 255 255]]\n",
      "\n",
      " [[255 255 255]\n",
      "  [255 255 255]\n",
      "  [255 255 255]\n",
      "  ...\n",
      "  [255 255 255]\n",
      "  [255 255 255]\n",
      "  [255 255 255]]\n",
      "\n",
      " [[255 255 255]\n",
      "  [255 255 255]\n",
      "  [255 255 255]\n",
      "  ...\n",
      "  [255 255 255]\n",
      "  [255 255 255]\n",
      "  [255 255 255]]]\n"
     ]
    }
   ],
   "source": [
    "print(fruit_images_t[0])"
   ]
  },
  {
   "cell_type": "code",
   "execution_count": 102,
   "metadata": {},
   "outputs": [],
   "source": [
    "# Manual extraction of features from images\n",
    "\n",
    "def color_features(img):\n",
    "    gray_img_f = cv2.cvtColor(img, cv2.COLOR_BGR2GRAY).flatten() # make grayscale and invert b/w\n",
    "    img_f = img.reshape((img.shape[0]*img.shape[1],3))\n",
    "    mean_rgb = np.zeros(3)\n",
    "    counts=0\n",
    "    for k in range(img_f.shape[0]):\n",
    "        if gray_img_f[k] <= 240: # somewhat arbitrary\n",
    "            mean_rgb += img_f[k]\n",
    "            counts += 1\n",
    "            \n",
    "    mean_rgb = mean_rgb / counts\n",
    "    \n",
    "    # Now lets find color variance\n",
    "    variance = np.sum(np.square(img_f-mean_rgb),axis=0)\n",
    "    return list(mean_rgb) + list(variance)\n",
    "    \n",
    "def shape_features(img):\n",
    "    gray_img = 255 - cv2.cvtColor(img, cv2.COLOR_BGR2GRAY) # make grayscale and invert b/w\n",
    "    thresh = cv2.adaptiveThreshold(gray_img,255,cv2.ADAPTIVE_THRESH_GAUSSIAN_C,\n",
    "            cv2.THRESH_BINARY,11,2) # make image binary\n",
    "    im2, cnt, hierarchy = cv2.findContours(thresh,cv2.RETR_TREE,cv2.CHAIN_APPROX_NONE) # Find connected components\n",
    "    max_cnt = cnt[np.argmax([len(x) for x in cnt])] # Use the biggest component\n",
    "    \n",
    "    # Compute key features\n",
    "    M = cv2.moments(max_cnt)\n",
    "    ellipse = cv2.fitEllipse(max_cnt)\n",
    "    min_max_ratio = min(ellipse[1][0] / ellipse[1][1],\n",
    "                      ellipse[1][1] / ellipse[1][0])\n",
    "    area_covered = M['m00'] / (ellipse[1][0] * ellipse[1][1])\n",
    "    perimeter_to_area = M['m00'] / cv2.arcLength(max_cnt,False)\n",
    "    \n",
    "    return [min_max_ratio, area_covered, perimeter_to_area]\n",
    "    \n",
    "def get_features_from_img(img):\n",
    "    return color_features(img) + shape_features(img)\n",
    "\n",
    "def imgs_to_features(imgs):\n",
    "    N = imgs.shape[0]\n",
    "    features = np.zeros((N,9))\n",
    "    for i in range(N):\n",
    "        features[i,:] = get_features_from_img(imgs[i])\n",
    "    return features\n",
    "\n",
    "custom_features_t = imgs_to_features(fruit_images_t)\n",
    "custom_features_v = imgs_to_features(fruit_images_v)"
   ]
  },
  {
   "cell_type": "code",
   "execution_count": 111,
   "metadata": {},
   "outputs": [
    {
     "name": "stdout",
     "output_type": "stream",
     "text": [
      "Accuracy with SVM on X_test_c: 85.135135\n"
     ]
    },
    {
     "data": {
      "image/png": "[encoded data removed]",
      "text/plain": [
       "<Figure size 432x288 with 2 Axes>"
      ]
     },
     "metadata": {},
     "output_type": "display_data"
    }
   ],
   "source": [
    "# Scaled custom features\n",
    "custom_scaler = StandardScaler()\n",
    "cft = custom_scaler.fit_transform(custom_features_t)\n",
    "cfv = custom_scaler.transform(custom_features_v)\n",
    "\n",
    "# Split custom training set\n",
    "X_train_c, X_test_c, y_train_c, y_test_c = train_test_split(cft, label_ids_t, test_size=0.6)\n",
    "\n",
    "# Train SVM on custom features\n",
    "svm_c = svm_sk.SVC(kernel='poly')\n",
    "svm_c = svm.fit(X_train_c, y_train_c)\n",
    "svm_test_predictions_c = svm.predict(X_test_c)\n",
    "\n",
    "# Compute accuracy scores\n",
    "svm_precision_t_c = accuracy_score(svm_test_predictions_c, y_test_c) * 100\n",
    "print(\"Accuracy with SVM on X_test_c: {0:.6f}\".format(svm_precision_t_c))\n",
    "\n",
    "# Compute Confusion Matrix for SVM on X_test_c\n",
    "cm_svm_t_c = confusion_matrix(y_test_c, svm_test_predictions_c)\n",
    "cm_svm_t_c = normalize(cm_svm_t_c, axis=1, norm='l1')\n",
    "\n",
    "# Plot confusion matrix\n",
    "fig = plt.figure()\n",
    "ax = fig.add_subplot(111)\n",
    "cax = ax.matshow(cm_svm_t_c)\n",
    "plt.title('Confusion matrix for SVM on X_test_c')\n",
    "fig.colorbar(cax)\n",
    "plt.xlabel('Predicted')\n",
    "plt.ylabel('True')\n",
    "plt.show()"
   ]
  },
  {
   "cell_type": "code",
   "execution_count": 112,
   "metadata": {},
   "outputs": [
    {
     "name": "stdout",
     "output_type": "stream",
     "text": [
      "Accuracy with SVM on (custom features) Validation data: 82.973224\n"
     ]
    },
    {
     "data": {
      "image/png": "[encoded data removed]",
      "text/plain": [
       "<Figure size 432x288 with 2 Axes>"
      ]
     },
     "metadata": {},
     "output_type": "display_data"
    }
   ],
   "source": [
    "# Predict with SVM on (custom features) Validation data\n",
    "svm_prediction_v_c = svm_c.predict(cfv)\n",
    "\n",
    "# Compute accuracy scores for all classifiers\n",
    "svm_precision_v_c = accuracy_score(svm_prediction_v_c, label_ids_v) * 100\n",
    "\n",
    "print(\"Accuracy with SVM on (custom features) Validation data: {0:.6f}\".format(svm_precision_v_c))\n",
    "\n",
    "# Compute confusion matrices for all classifiers\n",
    "cm_svm_v_c = confusion_matrix(label_ids_v, svm_prediction_v_c)\n",
    "cm_svm_v_c = normalize(cm_svm_v_c, axis=1, norm='l1')\n",
    "\n",
    "# Plot both confusion matrices (separate windows)\n",
    "fig = plt.figure()\n",
    "ax = fig.add_subplot(111)\n",
    "cax = ax.matshow(cm_svm_v_c)\n",
    "plt.title('Confusion matrix for SVM on (custom features) Validation data')\n",
    "fig.colorbar(cax)\n",
    "plt.xlabel('Predicted')\n",
    "plt.ylabel('True')\n",
    "plt.show()"
   ]
  },
  {
   "cell_type": "code",
   "execution_count": 108,
   "metadata": {},
   "outputs": [
    {
     "name": "stdout",
     "output_type": "stream",
     "text": [
      "Accuracy with SVM on X_test: 99.866605\n"
     ]
    },
    {
     "data": {
      "image/png": "[encoded data removed]",
      "text/plain": [
       "<Figure size 432x288 with 2 Axes>"
      ]
     },
     "metadata": {},
     "output_type": "display_data"
    }
   ],
   "source": [
    "# Train SVM\n",
    "svm = svm_sk.SVC(C=1.0, kernel='poly')\n",
    "svm = svm.fit(X_train, y_train)\n",
    "\n",
    "# Make predictions w/ both classifiers\n",
    "svm_test_predictions = svm.predict(X_test)\n",
    "\n",
    "# Compute accuracy scores\n",
    "svm_precision_t = accuracy_score(svm_test_predictions, y_test) * 100\n",
    "print(\"Accuracy with SVM on X_test: {0:.6f}\".format(svm_precision_t))\n",
    "\n",
    "# Compute Confusion Matrices for both classifiers\n",
    "cm_svm_t = confusion_matrix(y_test, svm_test_predictions)\n",
    "cm_svm_t = normalize(cm_svm_t, axis=1, norm='l1')\n",
    "\n",
    "# Plot both confusion matrices (separate windows)\n",
    "fig = plt.figure()\n",
    "ax = fig.add_subplot(111)\n",
    "cax = ax.matshow(cm_svm_t)\n",
    "plt.title('Confusion matrix for SVM on X_test')\n",
    "fig.colorbar(cax)\n",
    "plt.xlabel('Predicted')\n",
    "plt.ylabel('True')\n",
    "plt.show()"
   ]
  },
  {
   "cell_type": "code",
   "execution_count": 15,
   "metadata": {},
   "outputs": [
    {
     "name": "stdout",
     "output_type": "stream",
     "text": [
      "Accuracy with SVM on Validation data: 93.745477\n"
     ]
    },
    {
     "data": {
      "image/png": "[encoded data removed]",
      "text/plain": [
       "<Figure size 432x288 with 2 Axes>"
      ]
     },
     "metadata": {},
     "output_type": "display_data"
    }
   ],
   "source": [
    "# Predict on with all classifiers Validation data\n",
    "svm_prediction_v = svm.predict(pca_result_v)\n",
    "\n",
    "# Compute accuracy scores for all classifiers\n",
    "svm_precision_v = accuracy_score(svm_prediction_v, label_ids_v) * 100\n",
    "\n",
    "print(\"Accuracy with SVM on Validation data: {0:.6f}\".format(svm_precision_v))\n",
    "\n",
    "# Compute confusion matrices for all classifiers\n",
    "cm_svm_v = confusion_matrix(label_ids_v, svm_prediction_v)\n",
    "cm_svm_v = normalize(cm_svm_v, axis=1, norm='l1')\n",
    "\n",
    "# Plot both confusion matrices (separate windows)\n",
    "fig = plt.figure()\n",
    "ax = fig.add_subplot(111)\n",
    "cax = ax.matshow(cm_svm_v)\n",
    "plt.title('Confusion matrix for SVM on Validation data')\n",
    "fig.colorbar(cax)\n",
    "plt.xlabel('Predicted')\n",
    "plt.ylabel('True')\n",
    "plt.show()"
   ]
  },
  {
   "cell_type": "code",
   "execution_count": 14,
   "metadata": {},
   "outputs": [
    {
     "name": "stdout",
     "output_type": "stream",
     "text": [
      "Accuracy with RF on X_test: 98.538453\n"
     ]
    },
    {
     "data": {
      "image/png": "[encoded data removed]",
      "text/plain": [
       "<Figure size 432x288 with 2 Axes>"
      ]
     },
     "metadata": {},
     "output_type": "display_data"
    }
   ],
   "source": [
    "# Train Random Forest\n",
    "forest = RandomForestClassifier(n_estimators=10)\n",
    "forest = forest.fit(X_train, y_train)\n",
    "\n",
    "# Make predictions w/ both classifiers\n",
    "forest_test_predictions = forest.predict(X_test)\n",
    "\n",
    "# Compute accuracy scores\n",
    "forest_precision_t = accuracy_score(forest_test_predictions, y_test) * 100 \n",
    "print(\"Accuracy with RF on X_test: {0:.6f}\".format(forest_precision_t))\n",
    "\n",
    "# Compute Confusion Matrices for both classifiers\n",
    "cm_forest_t = confusion_matrix(y_test, forest_test_predictions)\n",
    "cm_forest_t = normalize(cm_forest_t, axis=1, norm='l1')\n",
    "\n",
    "# Plot both confusion matrices (separate windows)\n",
    "fig = plt.figure()\n",
    "ax = fig.add_subplot(111)\n",
    "cax = ax.matshow(cm_forest_t)\n",
    "plt.title('Confusion matrix for Random Forest on X_test')\n",
    "fig.colorbar(cax)\n",
    "plt.xlabel('Predicted')\n",
    "plt.ylabel('True')\n",
    "plt.show()"
   ]
  },
  {
   "cell_type": "code",
   "execution_count": null,
   "metadata": {},
   "outputs": [],
   "source": [
    "# Predict on with all classifiers Validation data\n",
    "forest_prediction_v = forest.predict(pca_result_v)\n",
    "\n",
    "# Compute accuracy scores for all classifiers\n",
    "forest_precision_v = accuracy_score(forest_prediction_v, label_ids_v) * 100\n",
    "\n",
    "\n",
    "print(\"Accuracy with RF on Validation data: {0:.6f}\".format(forest_precision_v))\n",
    "\n",
    "# Compute confusion matrices for all classifiers\n",
    "cm_forest_v = confusion_matrix(label_ids_v, forest_prediction_v)\n",
    "cm_forest_v = normalize(cm_forest_v, axis=1, norm='l1')"
   ]
  },
  {
   "cell_type": "code",
   "execution_count": null,
   "metadata": {},
   "outputs": [],
   "source": [
    "# Find worst mismatches in Forest classifier\n",
    "n = cm_forest_v.shape[0]\n",
    "mismatches = np.zeros((n,n))\n",
    "matches = np.zeros(n)\n",
    "\n",
    "for r in range(n):\n",
    "    for c in range(n):\n",
    "        if r == c:\n",
    "            matches[r] = cm_forest_v[r,c]\n",
    "            continue\n",
    "        mismatches[r,c] = cm_forest_v[r,c]\n",
    "        \n",
    "# Find and print the most 20 worst mismatches and the 10 worst performing classes\n",
    "mismatches_sorted = np.dstack(np.unravel_index(np.flipud(np.argsort(mismatches.flatten())),(n,n))).reshape(n*n,2)\n",
    "worst_mismatches = [(id_to_name_v[x[0]], id_to_name_v[x[1]], mismatches[x[0],x[1]])  for x in mismatches_sorted[0:20,:]]\n",
    "classes_sorted = np.argsort(matches)\n",
    "worst_classes = [(id_to_name_v[x], matches[x]) for x in classes_sorted[0:10]]\n",
    "print(worst_classes)\n",
    "print('---------------')\n",
    "print(worst_mismatches)\n",
    "# kdoak\n",
    "worst = [id_to_name_v[x] for x in classes_sorted[:5]]\n",
    "error_worst = [(1-matches[x]) for x in classes_sorted[:5]]\n",
    "best_classes = [(id_to_name_v[x], matches[x]) for x in classes_sorted[-10:]]\n",
    "fig = plt.figure()\n",
    "plt.bar(worst, error_worst)\n",
    "plt.xlabel('Worst classified fruits')\n",
    "plt.ylabel('Error')\n",
    "print(best_classes)\n",
    "\n",
    "# Plot both confusion matrices (separate windows)\n",
    "fig = plt.figure()\n",
    "ax = fig.add_subplot(111)\n",
    "cax = ax.matshow(cm_svm_v)\n",
    "plt.title('Confusion matrix for SVM on Validation data')\n",
    "fig.colorbar(cax)\n",
    "plt.xlabel('Predicted')\n",
    "plt.ylabel('True')\n",
    "plt.show()\n",
    "\n",
    "fig = plt.figure()\n",
    "ax = fig.add_subplot(111)\n",
    "cax = ax.matshow(cm_forest_v)\n",
    "plt.title('Confusion matrix for Random Forest on Validation data')\n",
    "fig.colorbar(cax)\n",
    "plt.xlabel('Predicted')\n",
    "plt.ylabel('True')\n",
    "plt.show()"
   ]
  }
 ],
 "metadata": {
  "kernelspec": {
   "display_name": "Python 3",
   "language": "python",
   "name": "python3"
  },
  "language_info": {
   "codemirror_mode": {
    "name": "ipython",
    "version": 3
   },
   "file_extension": ".py",
   "mimetype": "text/x-python",
   "name": "python",
   "nbconvert_exporter": "python",
   "pygments_lexer": "ipython3",
   "version": "3.6.0"
  }
 },
 "nbformat": 4,
 "nbformat_minor": 2
}
