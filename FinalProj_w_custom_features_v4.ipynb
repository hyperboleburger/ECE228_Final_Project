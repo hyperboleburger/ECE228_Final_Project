{
 "cells": [
  {
   "cell_type": "code",
   "execution_count": 1,
   "metadata": {},
   "outputs": [],
   "source": [
    "import numpy as np\n",
    "import cv2\n",
    "import pandas as pd \n",
    "import matplotlib.pyplot as plt\n",
    "from matplotlib.offsetbox import OffsetImage, AnnotationBbox\n",
    "import glob\n",
    "import os\n",
    "import sys\n",
    "import sklearn\n",
    "from sklearn.preprocessing import StandardScaler\n",
    "from sklearn.decomposition import PCA\n",
    "from sklearn.ensemble import RandomForestClassifier\n",
    "from sklearn.model_selection import train_test_split\n",
    "from sklearn import svm as svm_sk\n",
    "from sklearn.metrics import accuracy_score\n",
    "from sklearn.metrics import confusion_matrix\n",
    "from sklearn.preprocessing import normalize\n",
    "\n",
    "# Preprocessing Training data\n",
    "fruit_images_t = []\n",
    "labels_t = [] \n",
    "for fruit_dir_path in glob.glob(\"fruits-360/Training/*\"):\n",
    "    fruit_label = fruit_dir_path.split(\"\\\\\")[-1]\n",
    "    for image_path in glob.glob(os.path.join(fruit_dir_path, \"*.jpg\")):\n",
    "        image = cv2.imread(image_path, cv2.IMREAD_COLOR)\n",
    "        \n",
    "        image = cv2.resize(image, (45, 45))\n",
    "        image = cv2.cvtColor(image, cv2.COLOR_RGB2BGR)\n",
    "\n",
    "        fruit_images_t.append(image)\n",
    "        labels_t.append(fruit_label)\n",
    "fruit_images_t = np.array(fruit_images_t)\n",
    "labels_t = np.array(labels_t)\n",
    "\n",
    "# Preprocessing Validation data\n",
    "fruit_images_v = []\n",
    "labels_v = [] \n",
    "for fruit_dir_path in glob.glob(\"fruits-360/Validation/*\"):\n",
    "    fruit_label = fruit_dir_path.split(\"\\\\\")[-1]\n",
    "    for image_path in glob.glob(os.path.join(fruit_dir_path, \"*.jpg\")):\n",
    "        image = cv2.imread(image_path, cv2.IMREAD_COLOR)\n",
    "\n",
    "        image = cv2.resize(image, (45, 45))\n",
    "        image = cv2.cvtColor(image, cv2.COLOR_RGB2BGR)\n",
    "\n",
    "        fruit_images_v.append(image)\n",
    "        labels_v.append(fruit_label)\n",
    "fruit_images_v = np.array(fruit_images_v)\n",
    "labels_v = np.array(labels_v)\n",
    "\n",
    "# Create dicts/arrays for Training Data\n",
    "names_t = np.unique(labels_t)\n",
    "ids_t = [k for k in range(0, len(names_t))]\n",
    "name_id_t = list(zip(names_t, ids_t))\n",
    "id_to_name_t = {id: name for (name, id) in name_id_t}\n",
    "name_to_id_t = {name: id for (name, id) in name_id_t}\n",
    "label_ids_t = np.array([name_to_id_t[x] for x in labels_t])\n",
    "\n",
    "# Create dicts/arrays for Validation data\n",
    "names_v = np.unique(labels_v)\n",
    "ids_v = [k for k in range(len(names_v))]\n",
    "id_name_v = list(zip(ids_v, names_v))\n",
    "name_to_id_v = {name: id for (id, name) in id_name_v}\n",
    "id_to_name_v = {id: name for (id, name) in id_name_v}\n",
    "label_ids_v = np.array([name_to_id_v[x] for x in labels_v])\n",
    "\n",
    "#End of preprocessing stage"
   ]
  },
  {
   "cell_type": "code",
   "execution_count": 2,
   "metadata": {},
   "outputs": [],
   "source": [
    "# Preprocessing Own testing data\n",
    "fruit_images_ov = []\n",
    "labels_ov = [] \n",
    "for fruit_dir_path in glob.glob(\"fruits-360/OwnValidation/*\"):\n",
    "    fruit_label = fruit_dir_path.split(\"\\\\\")[-1]\n",
    "    for image_path in glob.glob(os.path.join(fruit_dir_path, \"*.jpg\")):\n",
    "        image = cv2.imread(image_path, cv2.IMREAD_COLOR)\n",
    "\n",
    "        image = cv2.resize(image, (45, 45))\n",
    "        image = cv2.cvtColor(image, cv2.COLOR_RGB2BGR)\n",
    "\n",
    "        fruit_images_ov.append(image)\n",
    "        labels_ov.append(fruit_label)\n",
    "fruit_images_ov = np.array(fruit_images_ov)\n",
    "labels_ov = np.array(labels_ov)\n",
    "\n",
    "#plt.imshow(fruit_images_ov[0])"
   ]
  },
  {
   "cell_type": "code",
   "execution_count": 6,
   "metadata": {},
   "outputs": [],
   "source": [
    "# PCA Cell\n",
    "# Scale Training data and then run PCA on it\n",
    "scaler = StandardScaler()\n",
    "scaled_images = scaler.fit_transform([im.flatten() for im in fruit_images_t])\n",
    "pca = PCA(n_components=24)\n",
    "pca_result_t = pca.fit_transform(scaled_images)\n",
    "\n",
    "# Split training set\n",
    "X_train, X_test, y_train, y_test = train_test_split(pca_result_t, label_ids_t, test_size=0.6)\n",
    "\n",
    "# Scale Validation Data and run PCA on it\n",
    "images_scaled = scaler.transform([im.flatten() for im in fruit_images_v])\n",
    "pca_result_v = pca.transform(images_scaled)\n",
    "\n",
    "# Scale our own Validation set and run PCA on it\n",
    "images_scaled = scaler.transform([im.flatten() for im in fruit_images_ov])\n",
    "pca_result_ov = pca.transform(images_scaled)"
   ]
  },
  {
   "cell_type": "code",
   "execution_count": 4,
   "metadata": {},
   "outputs": [],
   "source": [
    "# Manual extraction of features from images\n",
    "\n",
    "def color_features(img):\n",
    "    gray_img_f = cv2.cvtColor(img, cv2.COLOR_BGR2GRAY).flatten() # make grayscale and invert b/w\n",
    "    img_f = img.reshape((img.shape[0]*img.shape[1],3))\n",
    "    mean_rgb = np.zeros(3)\n",
    "    counts=0\n",
    "    for k in range(img_f.shape[0]):\n",
    "        if gray_img_f[k] <= 240: # somewhat arbitrary\n",
    "            mean_rgb += img_f[k]\n",
    "            counts += 1\n",
    "            \n",
    "    mean_rgb = mean_rgb / counts\n",
    "    \n",
    "    # Now lets find color variance\n",
    "    variance = np.sum(np.square(img_f-mean_rgb),axis=0)\n",
    "    return list(mean_rgb) + list(variance)\n",
    "    \n",
    "def shape_features(img):\n",
    "    gray_img = 255 - cv2.cvtColor(img, cv2.COLOR_BGR2GRAY) # make grayscale and invert b/w\n",
    "    thresh = cv2.adaptiveThreshold(gray_img,255,cv2.ADAPTIVE_THRESH_GAUSSIAN_C,\n",
    "            cv2.THRESH_BINARY,11,2) # make image binary\n",
    "    im2, cnt, hierarchy = cv2.findContours(thresh,cv2.RETR_TREE,cv2.CHAIN_APPROX_NONE) # Find connected components\n",
    "    max_cnt = cnt[np.argmax([len(x) for x in cnt])] # Use the biggest component\n",
    "    \n",
    "    # Compute key features\n",
    "    M = cv2.moments(max_cnt)\n",
    "    ellipse = cv2.fitEllipse(max_cnt)\n",
    "    min_max_ratio = min(ellipse[1][0] / ellipse[1][1],\n",
    "                      ellipse[1][1] / ellipse[1][0])\n",
    "    area_covered = M['m00'] / (ellipse[1][0] * ellipse[1][1])\n",
    "    perimeter_to_area = M['m00'] / cv2.arcLength(max_cnt,False)\n",
    "    \n",
    "    return [min_max_ratio, area_covered, perimeter_to_area]\n",
    "    \n",
    "def get_features_from_img(img):\n",
    "    return color_features(img) + shape_features(img)\n",
    "\n",
    "def imgs_to_features(imgs):\n",
    "    N = imgs.shape[0]\n",
    "    features = np.zeros((N,9))\n",
    "    for i in range(N):\n",
    "        features[i,:] = get_features_from_img(imgs[i])\n",
    "    return features\n",
    "\n",
    "custom_features_t = imgs_to_features(fruit_images_t)\n",
    "custom_features_v = imgs_to_features(fruit_images_v)\n",
    "custom_features_ov = imgs_to_features(fruit_images_ov)"
   ]
  },
  {
   "cell_type": "code",
   "execution_count": 3,
   "metadata": {},
   "outputs": [
    {
     "name": "stderr",
     "output_type": "stream",
     "text": [
      "c:\\users\\hyper\\appdata\\local\\programs\\python\\python36\\lib\\site-packages\\ipykernel_launcher.py:13: ComplexWarning: Casting complex values to real discards the imaginary part\n",
      "  del sys.path[0]\n"
     ]
    }
   ],
   "source": [
    "def get_img_fft(img):\n",
    "    r_img = np.zeros(img.shape)\n",
    "    f = np.fft.fft2(img[:,:,0])\n",
    "    f = np.fft.fftshift(f)\n",
    "    f = np.absolute(f)\n",
    "    r_img[:,:,0] = f\n",
    "    f = np.fft.fft2(img[:,:,1])\n",
    "    f = np.fft.fftshift(f)\n",
    "    f = np.absolute(f)\n",
    "    r_img[:,:,1] = f\n",
    "    f = np.fft.fft2(img[:,:,2])\n",
    "    f = np.fft.fftshift(f)\n",
    "    r_img[:,:,2] = f\n",
    "    f = np.absolute(f)\n",
    "    \n",
    "    return r_img.astype(int)\n",
    "\n",
    "fft_imgs_t = [get_img_fft(img) for img in fruit_images_t]\n",
    "fft_imgs_v = [get_img_fft(img) for img in fruit_images_v]\n",
    "fft_imgs_ov = [get_img_fft(img) for img in fruit_images_ov]"
   ]
  },
  {
   "cell_type": "code",
   "execution_count": 5,
   "metadata": {},
   "outputs": [
    {
     "name": "stdout",
     "output_type": "stream",
     "text": [
      "[[[ 151  211  123]\n",
      "  [ 437  494  108]\n",
      "  [ 387  468   34]\n",
      "  ...\n",
      "  [ 245  277  105]\n",
      "  [ 314  353 -186]\n",
      "  [ 185  201  -74]]\n",
      "\n",
      " [[ 165  161  129]\n",
      "  [ 176  158  139]\n",
      "  [ 157  162  132]\n",
      "  ...\n",
      "  [ 144  125  -67]\n",
      "  [ 212  202 -164]\n",
      "  [  71  137  -18]]\n",
      "\n",
      " [[ 195  253 -104]\n",
      "  [ 471  497  -25]\n",
      "  [ 248  283 -142]\n",
      "  ...\n",
      "  [ 360  442  -75]\n",
      "  [ 345  418 -158]\n",
      "  [ 111  187 -101]]\n",
      "\n",
      " ...\n",
      "\n",
      " [[ 111  187 -101]\n",
      "  [ 345  418 -158]\n",
      "  [ 360  442  -75]\n",
      "  ...\n",
      "  [ 248  283 -142]\n",
      "  [ 471  497  -25]\n",
      "  [ 195  253 -104]]\n",
      "\n",
      " [[  71  137  -18]\n",
      "  [ 212  202 -164]\n",
      "  [ 144  125  -67]\n",
      "  ...\n",
      "  [ 157  162  132]\n",
      "  [ 176  158  139]\n",
      "  [ 165  161  129]]\n",
      "\n",
      " [[ 185  201  -74]\n",
      "  [ 314  353 -186]\n",
      "  [ 245  277  105]\n",
      "  ...\n",
      "  [ 387  468   34]\n",
      "  [ 437  494  108]\n",
      "  [ 151  211  123]]]\n",
      "323827\n",
      "(45, 45, 3)\n"
     ]
    }
   ],
   "source": [
    "print(fft_imgs_t[0])\n",
    "print(np.max(fft_imgs_t[0]))\n",
    "print(fft_imgs_t[0].shape)"
   ]
  },
  {
   "cell_type": "code",
   "execution_count": 15,
   "metadata": {},
   "outputs": [
    {
     "name": "stdout",
     "output_type": "stream",
     "text": [
      "0\n",
      "1\n",
      "2\n",
      "3\n",
      "4\n",
      "5\n",
      "6\n"
     ]
    }
   ],
   "source": [
    "# PCA Cell\n",
    "# Scale Training data and then run PCA on it\n",
    "fft_scaler = StandardScaler()\n",
    "print('0')\n",
    "scaled_images = fft_scaler.fit_transform([im.flatten() for im in fft_imgs_t])\n",
    "print(\"1\")\n",
    "fft_pca = PCA(n_components=50)\n",
    "pca_result_fft_t = fft_pca.fit_transform(scaled_images)\n",
    "print(\"2\")\n",
    "\n",
    "# Split training set\n",
    "X_train_fft, X_test_fft, y_train_fft, y_test_fft = train_test_split(pca_result_fft_t, label_ids_t, test_size=1)\n",
    "print('3')\n",
    "\n",
    "# Scale Validation Data and run PCA on it\n",
    "images_scaled = fft_scaler.transform([im.flatten() for im in fft_imgs_v])\n",
    "print('4')\n",
    "pca_result_fft_v = fft_pca.transform(images_scaled)\n",
    "print('5')\n",
    "\n",
    "# Scale our own Validation set and run PCA on it\n",
    "images_scaled = fft_scaler.transform([im.flatten() for im in fft_imgs_ov])\n",
    "print('6')\n",
    "pca_result_ov = fft_pca.transform(images_scaled)"
   ]
  },
  {
   "cell_type": "code",
   "execution_count": 16,
   "metadata": {},
   "outputs": [
    {
     "name": "stdout",
     "output_type": "stream",
     "text": [
      "0.3483642750772162\n"
     ]
    }
   ],
   "source": [
    "cft = pca_result_fft_t\n",
    "cfv = pca_result_fft_v\n",
    "\n",
    "print(np.sum(fft_pca.explained_variance_ratio_))"
   ]
  },
  {
   "cell_type": "code",
   "execution_count": 17,
   "metadata": {},
   "outputs": [
    {
     "name": "stdout",
     "output_type": "stream",
     "text": [
      "Accuracy with SVM on X_test_c: 98.958333\n"
     ]
    },
    {
     "data": {
      "image/png": "[encoded data removed]",
      "text/plain": [
       "<Figure size 432x288 with 2 Axes>"
      ]
     },
     "metadata": {},
     "output_type": "display_data"
    }
   ],
   "source": [
    "# Scaled custom features\n",
    "#custom_scaler = StandardScaler()\n",
    "#cft = custom_scaler.fit_transform(custom_features_t)\n",
    "#cfv = custom_scaler.transform(custom_features_v)\n",
    "#cftov = custom_scaler.transform(custom_features_ov)\n",
    "\n",
    "# Split custom training set\n",
    "X_train_c, X_test_c, y_train_c, y_test_c = train_test_split(cft, label_ids_t, test_size=0.01)\n",
    "\n",
    "# Train SVM on custom features\n",
    "svm_c = svm_sk.SVC(kernel='poly',degree=1)\n",
    "svm_c = svm_c.fit(X_train_c, y_train_c)\n",
    "svm_test_predictions_c = svm_c.predict(X_test_c)\n",
    "\n",
    "# Compute accuracy scores\n",
    "svm_precision_t_c = accuracy_score(svm_test_predictions_c, y_test_c) * 100\n",
    "print(\"Accuracy with SVM on X_test_c: {0:.6f}\".format(svm_precision_t_c))\n",
    "\n",
    "# Compute Confusion Matrix for SVM on X_test_c\n",
    "cm_svm_t_c = confusion_matrix(y_test_c, svm_test_predictions_c)\n",
    "cm_svm_t_c = normalize(cm_svm_t_c, axis=1, norm='l1')\n",
    "\n",
    "# Plot confusion matrix\n",
    "fig = plt.figure()\n",
    "ax = fig.add_subplot(111)\n",
    "cax = ax.matshow(cm_svm_t_c)\n",
    "plt.title('Confusion matrix for SVM on X_test_c')\n",
    "fig.colorbar(cax)\n",
    "plt.xlabel('Predicted')\n",
    "plt.ylabel('True')\n",
    "plt.show()"
   ]
  },
  {
   "cell_type": "code",
   "execution_count": 18,
   "metadata": {},
   "outputs": [
    {
     "name": "stdout",
     "output_type": "stream",
     "text": [
      "Accuracy with SVM on (custom features) Validation data: 81.463868\n"
     ]
    },
    {
     "data": {
      "image/png": "[encoded data removed]",
      "text/plain": [
       "<Figure size 432x288 with 2 Axes>"
      ]
     },
     "metadata": {},
     "output_type": "display_data"
    }
   ],
   "source": [
    "# Predict with SVM on (custom features) Validation data\n",
    "svm_prediction_v_c = svm_c.predict(cfv)\n",
    "\n",
    "# Compute accuracy scores for all classifiers\n",
    "svm_precision_v_c = accuracy_score(svm_prediction_v_c, label_ids_v) * 100\n",
    "\n",
    "print(\"Accuracy with SVM on (custom features) Validation data: {0:.6f}\".format(svm_precision_v_c))\n",
    "\n",
    "# Compute confusion matrices for all classifiers\n",
    "cm_svm_v_c = confusion_matrix(label_ids_v, svm_prediction_v_c)\n",
    "cm_svm_v_c = normalize(cm_svm_v_c, axis=1, norm='l1')\n",
    "\n",
    "# Plot both confusion matrices (separate windows)\n",
    "fig = plt.figure()\n",
    "ax = fig.add_subplot(111)\n",
    "cax = ax.matshow(cm_svm_v_c)\n",
    "plt.title('Confusion matrix for SVM on (custom features) Validation data')\n",
    "fig.colorbar(cax)\n",
    "plt.xlabel('Predicted')\n",
    "plt.ylabel('True')\n",
    "plt.show()"
   ]
  },
  {
   "cell_type": "code",
   "execution_count": 19,
   "metadata": {},
   "outputs": [
    {
     "name": "stdout",
     "output_type": "stream",
     "text": [
      "Accuracy with RF on X_test_c: 98.958333\n"
     ]
    },
    {
     "data": {
      "image/png": "[encoded data removed]",
      "text/plain": [
       "<Figure size 432x288 with 2 Axes>"
      ]
     },
     "metadata": {},
     "output_type": "display_data"
    }
   ],
   "source": [
    "# Train Random Forest (on custom features)\n",
    "forest_c = RandomForestClassifier(n_estimators=100)\n",
    "forest_c = forest_c.fit(X_train_c, y_train_c)\n",
    "\n",
    "# Make predictions w/ both classifiers\n",
    "forest_test_predictions_t_c = forest_c.predict(X_test_c)\n",
    "\n",
    "# Compute accuracy scores\n",
    "forest_precision_t_c = accuracy_score(forest_test_predictions_t_c, y_test_c) * 100 \n",
    "print(\"Accuracy with RF on X_test_c: {0:.6f}\".format(forest_precision_t_c))\n",
    "\n",
    "# Compute Confusion Matrices for both classifiers\n",
    "cm_forest_t_c = confusion_matrix(y_test_c, forest_test_predictions_t_c)\n",
    "cm_forest_t_c = normalize(cm_forest_t_c, axis=1, norm='l1')\n",
    "\n",
    "# Plot both confusion matrices (separate windows)\n",
    "fig = plt.figure()\n",
    "ax = fig.add_subplot(111)\n",
    "cax = ax.matshow(cm_forest_t_c)\n",
    "plt.title('Confusion matrix for Random Forest on X_test')\n",
    "fig.colorbar(cax)\n",
    "plt.xlabel('Predicted')\n",
    "plt.ylabel('True')\n",
    "plt.show()"
   ]
  },
  {
   "cell_type": "code",
   "execution_count": 20,
   "metadata": {},
   "outputs": [
    {
     "name": "stdout",
     "output_type": "stream",
     "text": [
      "Accuracy with forest on (custom features) Validation data: 79.851132\n"
     ]
    },
    {
     "data": {
      "image/png": "[encoded data removed]",
      "text/plain": [
       "<Figure size 432x288 with 2 Axes>"
      ]
     },
     "metadata": {},
     "output_type": "display_data"
    }
   ],
   "source": [
    "# Predict with SVM on (custom features) Validation data\n",
    "forest_prediction_v_c = forest_c.predict(cfv)\n",
    "\n",
    "# Compute accuracy scores for all classifiers\n",
    "forest_precision_v_c = accuracy_score(forest_prediction_v_c, label_ids_v) * 100\n",
    "\n",
    "print(\"Accuracy with forest on (custom features) Validation data: {0:.6f}\".format(forest_precision_v_c))\n",
    "\n",
    "# Compute confusion matrices for all classifiers\n",
    "cm_forest_v_c = confusion_matrix(label_ids_v, forest_prediction_v_c)\n",
    "cm_forest_v_c = normalize(cm_forest_v_c, axis=1, norm='l1')\n",
    "\n",
    "# Plot both confusion matrices (separate windows)\n",
    "fig = plt.figure()\n",
    "ax = fig.add_subplot(111)\n",
    "cax = ax.matshow(cm_forest_v_c)\n",
    "#plt.title('Confusion matrix for Random Forest on (custom features) Validation data')\n",
    "fig.colorbar(cax)\n",
    "plt.xlabel('Predicted')\n",
    "plt.ylabel('True')\n",
    "plt.show()"
   ]
  },
  {
   "cell_type": "code",
   "execution_count": 11,
   "metadata": {},
   "outputs": [
    {
     "name": "stdout",
     "output_type": "stream",
     "text": [
      "Accuracy with SVM on X_test: 99.814407\n"
     ]
    },
    {
     "data": {
      "image/png": "[encoded data removed]",
      "text/plain": [
       "<Figure size 432x288 with 2 Axes>"
      ]
     },
     "metadata": {},
     "output_type": "display_data"
    }
   ],
   "source": [
    "# Train SVM\n",
    "svm = svm_sk.SVC(C=1.0, kernel='poly', degree=1)\n",
    "svm = svm.fit(X_train, y_train)\n",
    "\n",
    "# Make predictions w/ both classifiers\n",
    "svm_test_predictions = svm.predict(X_test)\n",
    "\n",
    "# Compute accuracy scores\n",
    "svm_precision_t = accuracy_score(svm_test_predictions, y_test) * 100\n",
    "print(\"Accuracy with SVM on X_test: {0:.6f}\".format(svm_precision_t))\n",
    "\n",
    "# Compute Confusion Matrices for both classifiers\n",
    "cm_svm_t = confusion_matrix(y_test, svm_test_predictions)\n",
    "cm_svm_t = normalize(cm_svm_t, axis=1, norm='l1')\n",
    "\n",
    "# Plot both confusion matrices (separate windows)\n",
    "fig = plt.figure()\n",
    "ax = fig.add_subplot(111)\n",
    "cax = ax.matshow(cm_svm_t)\n",
    "plt.title('Confusion matrix for SVM on X_test')\n",
    "fig.colorbar(cax)\n",
    "plt.xlabel('Predicted')\n",
    "plt.ylabel('True')\n",
    "plt.show()"
   ]
  },
  {
   "cell_type": "code",
   "execution_count": 18,
   "metadata": {},
   "outputs": [
    {
     "name": "stdout",
     "output_type": "stream",
     "text": [
      "Accuracy with SVM on Validation data: 95.172129\n"
     ]
    },
    {
     "data": {
      "image/png": "[encoded data removed]",
      "text/plain": [
       "<Figure size 432x288 with 2 Axes>"
      ]
     },
     "metadata": {},
     "output_type": "display_data"
    }
   ],
   "source": [
    "# Predict on with all classifiers Validation data\n",
    "svm_prediction_v = svm.predict(pca_result_v)\n",
    "\n",
    "# Compute accuracy scores for all classifiers\n",
    "svm_precision_v = accuracy_score(svm_prediction_v, label_ids_v) * 100\n",
    "\n",
    "print(\"Accuracy with SVM on Validation data: {0:.6f}\".format(svm_precision_v))\n",
    "\n",
    "# Compute confusion matrices for all classifiers\n",
    "cm_svm_v = confusion_matrix(label_ids_v, svm_prediction_v)\n",
    "cm_svm_v = normalize(cm_svm_v, axis=1, norm='l1')\n",
    "\n",
    "# Plot both confusion matrices (separate windows)\n",
    "fig = plt.figure()\n",
    "ax = fig.add_subplot(111)\n",
    "cax = ax.matshow(cm_svm_v)\n",
    "#plt.title('Confusion matrix for SVM on Set 1 Validation data')\n",
    "fig.colorbar(cax)\n",
    "plt.xlabel('Predicted')\n",
    "plt.ylabel('True')\n",
    "plt.show()"
   ]
  },
  {
   "cell_type": "code",
   "execution_count": 13,
   "metadata": {},
   "outputs": [
    {
     "name": "stdout",
     "output_type": "stream",
     "text": [
      "Accuracy with RF on X_test: 99.739009\n"
     ]
    },
    {
     "data": {
      "image/png": "[encoded data removed]",
      "text/plain": [
       "<Figure size 432x288 with 2 Axes>"
      ]
     },
     "metadata": {},
     "output_type": "display_data"
    }
   ],
   "source": [
    "# Train Random Forest\n",
    "forest = RandomForestClassifier(n_estimators=100)\n",
    "forest = forest.fit(X_train, y_train)\n",
    "\n",
    "# Make predictions w/ both classifiers\n",
    "forest_test_predictions = forest.predict(X_test)\n",
    "\n",
    "# Compute accuracy scores\n",
    "forest_precision_t = accuracy_score(forest_test_predictions, y_test) * 100 \n",
    "print(\"Accuracy with RF on X_test: {0:.6f}\".format(forest_precision_t))\n",
    "\n",
    "# Compute Confusion Matrices for both classifiers\n",
    "cm_forest_t = confusion_matrix(y_test, forest_test_predictions)\n",
    "cm_forest_t = normalize(cm_forest_t, axis=1, norm='l1')\n",
    "\n",
    "# Plot both confusion matrices (separate windows)\n",
    "fig = plt.figure()\n",
    "ax = fig.add_subplot(111)\n",
    "cax = ax.matshow(cm_forest_t)\n",
    "plt.title('Confusion matrix for Random Forest on X_test')\n",
    "fig.colorbar(cax)\n",
    "plt.xlabel('Predicted')\n",
    "plt.ylabel('True')\n",
    "plt.show()"
   ]
  },
  {
   "cell_type": "code",
   "execution_count": 42,
   "metadata": {},
   "outputs": [
    {
     "name": "stdout",
     "output_type": "stream",
     "text": [
      "Accuracy with RF on Validation data: 91.440091\n"
     ]
    }
   ],
   "source": [
    "# Predict on with all classifiers Validation data\n",
    "forest_prediction_v = forest.predict(pca_result_v)\n",
    "\n",
    "# Compute accuracy scores for all classifiers\n",
    "forest_precision_v = accuracy_score(forest_prediction_v, label_ids_v) * 100\n",
    "\n",
    "\n",
    "print(\"Accuracy with RF on Validation data: {0:.6f}\".format(forest_precision_v))\n",
    "\n",
    "# Compute confusion matrices for all classifiers\n",
    "cm_forest_v = confusion_matrix(label_ids_v, forest_prediction_v)\n",
    "cm_forest_v = normalize(cm_forest_v, axis=1, norm='l1')"
   ]
  },
  {
   "cell_type": "code",
   "execution_count": null,
   "metadata": {},
   "outputs": [],
   "source": [
    "# Find worst mismatches in Forest classifier\n",
    "n = cm_forest_v.shape[0]\n",
    "mismatches = np.zeros((n,n))\n",
    "matches = np.zeros(n)\n",
    "\n",
    "for r in range(n):\n",
    "    for c in range(n):\n",
    "        if r == c:\n",
    "            matches[r] = cm_forest_v[r,c]\n",
    "            continue\n",
    "        mismatches[r,c] = cm_forest_v[r,c]\n",
    "        \n",
    "# Find and print the most 20 worst mismatches and the 10 worst performing classes\n",
    "mismatches_sorted = np.dstack(np.unravel_index(np.flipud(np.argsort(mismatches.flatten())),(n,n))).reshape(n*n,2)\n",
    "worst_mismatches = [(id_to_name_v[x[0]], id_to_name_v[x[1]], mismatches[x[0],x[1]])  for x in mismatches_sorted[0:20,:]]\n",
    "classes_sorted = np.argsort(matches)\n",
    "worst_classes = [(id_to_name_v[x], matches[x]) for x in classes_sorted[0:10]]\n",
    "print(worst_classes)\n",
    "print('---------------')\n",
    "print(worst_mismatches)\n",
    "# kdoak\n",
    "worst = [id_to_name_v[x] for x in classes_sorted[:5]]\n",
    "error_worst = [(1-matches[x]) for x in classes_sorted[:5]]\n",
    "best_classes = [(id_to_name_v[x], matches[x]) for x in classes_sorted[-10:]]\n",
    "fig = plt.figure()\n",
    "plt.bar(worst, error_worst)\n",
    "plt.xlabel('Worst classified fruits')\n",
    "plt.ylabel('Error')\n",
    "print(best_classes)\n",
    "\n",
    "# Plot both confusion matrices (separate windows)\n",
    "fig = plt.figure()\n",
    "ax = fig.add_subplot(111)\n",
    "cax = ax.matshow(cm_svm_v)\n",
    "plt.title('Confusion matrix for SVM on Validation data')\n",
    "fig.colorbar(cax)\n",
    "plt.xlabel('Predicted')\n",
    "plt.ylabel('True')\n",
    "plt.show()\n",
    "\n",
    "fig = plt.figure()\n",
    "ax = fig.add_subplot(111)\n",
    "cax = ax.matshow(cm_forest_v)\n",
    "plt.title('Confusion matrix for Random Forest on Validation data')\n",
    "fig.colorbar(cax)\n",
    "plt.xlabel('Predicted')\n",
    "plt.ylabel('True')\n",
    "plt.show()"
   ]
  },
  {
   "cell_type": "code",
   "execution_count": 51,
   "metadata": {},
   "outputs": [
    {
     "name": "stdout",
     "output_type": "stream",
     "text": [
      "Correct labels...\n",
      "['Apple Green' 'Apple Green' 'Apple Green' 'Apple Green' 'Apple Green'\n",
      " 'Apple Red' 'Apple Red' 'Apple Red' 'Apple Red' 'Apple Red' 'Avocado'\n",
      " 'Avocado' 'Avocado' 'Avocado' 'Avocado' 'Lime' 'Lime' 'Lime' 'Lime'\n",
      " 'Lime' 'Mango' 'Mango' 'Mango' 'Mango' 'Mango' 'Orange' 'Orange' 'Orange'\n",
      " 'Orange' 'Orange' 'Peach' 'Peach' 'Peach' 'Peach' 'Peach']\n",
      "Result from SVM + PCA...\n",
      "['Guava', 'Guava', 'Apple Golden 3', 'Guava', 'Guava', 'Apple Red 1', 'Granadilla', 'Apple Red 1', 'Kaki', 'Mandarine', 'Avocado', 'Avocado', 'Avocado', 'Plum', 'Plum', 'Papaya', 'Papaya', 'Papaya', 'Avocado', 'Avocado', 'Papaya', 'Peach Flat', 'Peach Flat', 'Grape Pink', 'Papaya', 'Apricot', 'Apricot', 'Apricot', 'Apricot', 'Apricot', 'Peach', 'Peach', 'Peach', 'Peach', 'Peach']\n",
      "Result from Random Forest + PCA...\n",
      "['Guava', 'Guava', 'Peach', 'Guava', 'Guava', 'Litchi', 'Apple Golden 1', 'Litchi', 'Peach Flat', 'Mandarine', 'Papaya', 'Papaya', 'Avocado', 'Plum', 'Plum', 'Papaya', 'Papaya', 'Papaya', 'Pear', 'Guava', 'Strawberry', 'Peach Flat', 'Peach Flat', 'Kiwi', 'Papaya', 'Orange', 'Apricot', 'Apricot', 'Apricot', 'Mandarine', 'Apple Red Yellow', 'Peach', 'Peach', 'Apple Braeburn', 'Apple Red 1']\n",
      "Result from SVM + custom features...\n",
      "['Guava', 'Guava', 'Guava', 'Guava', 'Guava', 'Apple Red 1', 'Apple Red Yellow', 'Apple Red 1', 'Apple Red 1', 'Peach', 'Avocado', 'Avocado', 'Avocado', 'Plum', 'Avocado', 'Papaya', 'Papaya', 'Papaya', 'Mango', 'Papaya', 'Papaya', 'Pear Abate', 'Peach Flat', 'Pineapple', 'Papaya', 'Orange', 'Orange', 'Mandarine', 'Orange', 'Orange', 'Nectarine', 'Nectarine', 'Nectarine', 'Apple Red 1', 'Peach']\n",
      "Result from Random Forest + custom features...\n",
      "['Guava', 'Guava', 'Guava', 'Guava', 'Guava', 'Apple Red Yellow', 'Apple Red Yellow', 'Nectarine', 'Kaki', 'Peach', 'Avocado', 'Avocado', 'Avocado', 'Plum', 'Avocado', 'Papaya', 'Papaya', 'Mango', 'Mango', 'Mango', 'Papaya', 'Salak', 'Peach Flat', 'Apple Red 3', 'Papaya', 'Orange', 'Apricot', 'Tangelo', 'Tangelo', 'Tangelo', 'Nectarine', 'Nectarine', 'Apple Braeburn', 'Apple Red 1', 'Apple Braeburn']\n"
     ]
    }
   ],
   "source": [
    "svm_pred_ov = [id_to_name_v[i] for i in svm.predict(pca_result_ov)]\n",
    "forest_pred_ov = [id_to_name_v[i] for i in forest.predict(pca_result_ov)]\n",
    "\n",
    "svm_c_pred_ov = [id_to_name_v[i] for i in svm_c.predict(cftov)]\n",
    "forest_c_pred_ov = [id_to_name_v[i] for i in forest_c.predict(cftov)]\n",
    "\n",
    "print(\"Correct labels...\")\n",
    "print(labels_ov)\n",
    "\n",
    "print(\"Result from SVM + PCA...\")\n",
    "print(svm_pred_ov)\n",
    "\n",
    "print(\"Result from Random Forest + PCA...\")\n",
    "print(forest_pred_ov)\n",
    "\n",
    "print(\"Result from SVM + custom features...\")\n",
    "print(svm_c_pred_ov)\n",
    "\n",
    "print(\"Result from Random Forest + custom features...\")\n",
    "print(forest_c_pred_ov)\n",
    "\n",
    "# OK result, not great, not awful.."
   ]
  },
  {
   "cell_type": "code",
   "execution_count": 16,
   "metadata": {},
   "outputs": [
    {
     "name": "stdout",
     "output_type": "stream",
     "text": [
      "Training accuracy with SVM on Set 1: 100.000000\n",
      "Validation accuracy with SVM on Set 1: 95.172129\n",
      "Training accuracy with SVM on Set 2: 94.150731\n",
      "Validation accuracy with SVM on Set 2: 91.398739\n",
      "Training accuracy with RF on Set 1: 100.000000\n",
      "Validation accuracy with RF on Set 1: 90.209863\n",
      "Training accuracy with RF on Set 2: 100.000000\n",
      "Validation accuracy with RF on Set 2: 93.383645\n"
     ]
    }
   ],
   "source": [
    "svm_set1_training_pred = svm.predict(X_train)\n",
    "svm_set1_training_acc = accuracy_score(svm_set1_training_pred, y_train) * 100\n",
    "\n",
    "svm_set1_validation_pred = svm.predict(pca_result_v)\n",
    "svm_set1_validation_acc = accuracy_score(svm_set1_validation_pred, label_ids_v) * 100\n",
    "\n",
    "svm_set2_training_pred = svm_c.predict(X_train_c)\n",
    "svm_set2_training_acc = accuracy_score(svm_set2_training_pred, y_train_c) * 100\n",
    "\n",
    "svm_set2_validation_pred = svm_c.predict(cfv)\n",
    "svm_set2_validation_acc = accuracy_score(svm_set2_validation_pred, label_ids_v) * 100\n",
    "\n",
    "rf_set1_training_pred = forest.predict(X_train)\n",
    "rf_set1_training_acc = accuracy_score(rf_set1_training_pred, y_train) * 100\n",
    "\n",
    "rf_set1_validation_pred = forest.predict(pca_result_v)\n",
    "rf_set1_validation_acc = accuracy_score(rf_set1_validation_pred, label_ids_v) * 100\n",
    "\n",
    "rf_set2_training_pred = forest_c.predict(X_train_c)\n",
    "rf_set2_training_acc = accuracy_score(rf_set2_training_pred, y_train_c) * 100\n",
    "\n",
    "rf_set2_validation_pred = forest_c.predict(cfv)\n",
    "rf_set2_validation_acc = accuracy_score(rf_set2_validation_pred, label_ids_v) * 100\n",
    "\n",
    "print(\"Training accuracy with SVM on Set 1: {0:.6f}\".format(svm_set1_training_acc))\n",
    "print(\"Validation accuracy with SVM on Set 1: {0:.6f}\".format(svm_set1_validation_acc))\n",
    "print(\"Training accuracy with SVM on Set 2: {0:.6f}\".format(svm_set2_training_acc))\n",
    "print(\"Validation accuracy with SVM on Set 2: {0:.6f}\".format(svm_set2_validation_acc))\n",
    "print(\"Training accuracy with RF on Set 1: {0:.6f}\".format(rf_set1_training_acc))\n",
    "print(\"Validation accuracy with RF on Set 1: {0:.6f}\".format(rf_set1_validation_acc))\n",
    "print(\"Training accuracy with RF on Set 2: {0:.6f}\".format(rf_set2_training_acc))\n",
    "print(\"Validation accuracy with RF on Set 2: {0:.6f}\".format(rf_set2_validation_acc))"
   ]
  },
  {
   "cell_type": "code",
   "execution_count": null,
   "metadata": {},
   "outputs": [],
   "source": []
  }
 ],
 "metadata": {
  "kernelspec": {
   "display_name": "Python 3",
   "language": "python",
   "name": "python3"
  },
  "language_info": {
   "codemirror_mode": {
    "name": "ipython",
    "version": 3
   },
   "file_extension": ".py",
   "mimetype": "text/x-python",
   "name": "python",
   "nbconvert_exporter": "python",
   "pygments_lexer": "ipython3",
   "version": "3.6.0"
  }
 },
 "nbformat": 4,
 "nbformat_minor": 2
}
